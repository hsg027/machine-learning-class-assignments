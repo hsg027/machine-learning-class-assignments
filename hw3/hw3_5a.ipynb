{
 "cells": [
  {
   "cell_type": "code",
   "execution_count": 1,
   "metadata": {},
   "outputs": [],
   "source": [
    "import pandas as pd\n",
    "from sklearn.tree import DecisionTreeClassifier # Import Decision Tree Classifier\n",
    "from sklearn.model_selection import train_test_split # Import train_test_split function\n",
    "from sklearn import metrics #Import scikit-learn metrics module for accuracy calculation\n",
    "from sklearn import tree\n",
    "from sklearn import preprocessing"
   ]
  },
  {
   "cell_type": "code",
   "execution_count": 2,
   "metadata": {},
   "outputs": [],
   "source": [
    "PATH = 'C:/Users/Harsh/Desktop/task5/'"
   ]
  },
  {
   "cell_type": "code",
   "execution_count": 3,
   "metadata": {},
   "outputs": [],
   "source": [
    "train_data = pd.read_csv(PATH + 'train.csv')\n",
    "\n",
    "test_data = pd.read_csv(PATH + 'test.csv')"
   ]
  },
  {
   "cell_type": "code",
   "execution_count": 4,
   "metadata": {},
   "outputs": [],
   "source": [
    "train= train_data.apply(preprocessing.LabelEncoder().fit_transform)\n",
    "test= test_data.apply(preprocessing.LabelEncoder().fit_transform)"
   ]
  },
  {
   "cell_type": "code",
   "execution_count": 5,
   "metadata": {},
   "outputs": [],
   "source": [
    "feature_cols=['Is_home_away', 'In_out', 'Media']"
   ]
  },
  {
   "cell_type": "code",
   "execution_count": 6,
   "metadata": {},
   "outputs": [],
   "source": [
    "x=train[feature_cols]\n",
    "y=train.Label"
   ]
  },
  {
   "cell_type": "code",
   "execution_count": 7,
   "metadata": {},
   "outputs": [
    {
     "data": {
      "text/plain": [
       "DecisionTreeClassifier(ccp_alpha=0.0, class_weight=None, criterion='entropy',\n",
       "                       max_depth=None, max_features=None, max_leaf_nodes=None,\n",
       "                       min_impurity_decrease=0.0, min_impurity_split=None,\n",
       "                       min_samples_leaf=1, min_samples_split=2,\n",
       "                       min_weight_fraction_leaf=0.0, presort='deprecated',\n",
       "                       random_state=None, splitter='best')"
      ]
     },
     "execution_count": 7,
     "metadata": {},
     "output_type": "execute_result"
    }
   ],
   "source": [
    "dt = DecisionTreeClassifier(criterion=\"entropy\")\n",
    "dt.fit(x, y)"
   ]
  },
  {
   "cell_type": "code",
   "execution_count": 8,
   "metadata": {},
   "outputs": [],
   "source": [
    "x_test=test[feature_cols]"
   ]
  },
  {
   "cell_type": "code",
   "execution_count": 9,
   "metadata": {},
   "outputs": [],
   "source": [
    "y_pred=dt.fit(x,y).predict(x_test)"
   ]
  },
  {
   "cell_type": "code",
   "execution_count": 10,
   "metadata": {},
   "outputs": [
    {
     "data": {
      "text/plain": [
       "[Text(186.0, 332.64, 'X[1] <= 0.5\\nentropy = 0.98\\nsamples = 24\\nvalue = [10, 14]'),\n",
       " Text(82.66666666666667, 258.71999999999997, 'X[0] <= 0.5\\nentropy = 0.863\\nsamples = 7\\nvalue = [5, 2]'),\n",
       " Text(41.333333333333336, 184.8, 'entropy = 0.0\\nsamples = 3\\nvalue = [3, 0]'),\n",
       " Text(124.0, 184.8, 'entropy = 1.0\\nsamples = 4\\nvalue = [2, 2]'),\n",
       " Text(289.33333333333337, 258.71999999999997, 'X[2] <= 1.5\\nentropy = 0.874\\nsamples = 17\\nvalue = [5, 12]'),\n",
       " Text(206.66666666666669, 184.8, 'X[2] <= 0.5\\nentropy = 1.0\\nsamples = 6\\nvalue = [3, 3]'),\n",
       " Text(165.33333333333334, 110.88, 'entropy = 0.971\\nsamples = 5\\nvalue = [2, 3]'),\n",
       " Text(248.0, 110.88, 'entropy = 0.0\\nsamples = 1\\nvalue = [1, 0]'),\n",
       " Text(372.0, 184.8, 'X[0] <= 0.5\\nentropy = 0.684\\nsamples = 11\\nvalue = [2, 9]'),\n",
       " Text(330.6666666666667, 110.88, 'entropy = 0.0\\nsamples = 1\\nvalue = [0, 1]'),\n",
       " Text(413.33333333333337, 110.88, 'X[2] <= 3.0\\nentropy = 0.722\\nsamples = 10\\nvalue = [2, 8]'),\n",
       " Text(372.0, 36.960000000000036, 'entropy = 0.0\\nsamples = 1\\nvalue = [0, 1]'),\n",
       " Text(454.6666666666667, 36.960000000000036, 'entropy = 0.764\\nsamples = 9\\nvalue = [2, 7]')]"
      ]
     },
     "execution_count": 10,
     "metadata": {},
     "output_type": "execute_result"
    }
   ],
   "source": [
    "tree.plot_tree(dt.fit(x,y))"
   ]
  },
  {
   "cell_type": "code",
   "execution_count": 11,
   "metadata": {},
   "outputs": [
    {
     "data": {
      "text/plain": [
       "[Text(125.55000000000001, 195.696, 'X[1] <= 0.5\\nentropy = 0.98\\nsamples = 24\\nvalue = [10, 14]'),\n",
       " Text(55.800000000000004, 152.208, 'X[0] <= 0.5\\nentropy = 0.863\\nsamples = 7\\nvalue = [5, 2]'),\n",
       " Text(27.900000000000002, 108.72, 'entropy = 0.0\\nsamples = 3\\nvalue = [3, 0]'),\n",
       " Text(83.7, 108.72, 'entropy = 1.0\\nsamples = 4\\nvalue = [2, 2]'),\n",
       " Text(195.3, 152.208, 'X[2] <= 1.5\\nentropy = 0.874\\nsamples = 17\\nvalue = [5, 12]'),\n",
       " Text(139.5, 108.72, 'X[2] <= 0.5\\nentropy = 1.0\\nsamples = 6\\nvalue = [3, 3]'),\n",
       " Text(111.60000000000001, 65.232, 'entropy = 0.971\\nsamples = 5\\nvalue = [2, 3]'),\n",
       " Text(167.4, 65.232, 'entropy = 0.0\\nsamples = 1\\nvalue = [1, 0]'),\n",
       " Text(251.10000000000002, 108.72, 'X[0] <= 0.5\\nentropy = 0.684\\nsamples = 11\\nvalue = [2, 9]'),\n",
       " Text(223.20000000000002, 65.232, 'entropy = 0.0\\nsamples = 1\\nvalue = [0, 1]'),\n",
       " Text(279.0, 65.232, 'X[2] <= 3.0\\nentropy = 0.722\\nsamples = 10\\nvalue = [2, 8]'),\n",
       " Text(251.10000000000002, 21.744, 'entropy = 0.0\\nsamples = 1\\nvalue = [0, 1]'),\n",
       " Text(306.90000000000003, 21.744, 'entropy = 0.764\\nsamples = 9\\nvalue = [2, 7]')]"
      ]
     },
     "execution_count": 11,
     "metadata": {},
     "output_type": "execute_result"
    },
    {
     "data": {
      "image/png": "[encoded data removed]",
      "text/plain": [
       "<Figure size 432x288 with 1 Axes>"
      ]
     },
     "metadata": {
      "needs_background": "light"
     },
     "output_type": "display_data"
    }
   ],
   "source": [
    "tree.plot_tree(dt)"
   ]
  },
  {
   "cell_type": "code",
   "execution_count": 12,
   "metadata": {},
   "outputs": [
    {
     "data": {
      "text/plain": [
       "[Text(125.55000000000001, 195.696, 'X[1] <= 0.5\\nentropy = 0.98\\nsamples = 24\\nvalue = [10, 14]'),\n",
       " Text(55.800000000000004, 152.208, 'X[2] <= 3.5\\nentropy = 0.863\\nsamples = 7\\nvalue = [5, 2]'),\n",
       " Text(27.900000000000002, 108.72, 'entropy = 0.0\\nsamples = 3\\nvalue = [3, 0]'),\n",
       " Text(83.7, 108.72, 'entropy = 1.0\\nsamples = 4\\nvalue = [2, 2]'),\n",
       " Text(195.3, 152.208, 'X[2] <= 1.5\\nentropy = 0.874\\nsamples = 17\\nvalue = [5, 12]'),\n",
       " Text(139.5, 108.72, 'X[0] <= 0.5\\nentropy = 1.0\\nsamples = 6\\nvalue = [3, 3]'),\n",
       " Text(111.60000000000001, 65.232, 'entropy = 0.971\\nsamples = 5\\nvalue = [2, 3]'),\n",
       " Text(167.4, 65.232, 'entropy = 0.0\\nsamples = 1\\nvalue = [1, 0]'),\n",
       " Text(251.10000000000002, 108.72, 'X[0] <= 0.5\\nentropy = 0.684\\nsamples = 11\\nvalue = [2, 9]'),\n",
       " Text(223.20000000000002, 65.232, 'entropy = 0.0\\nsamples = 1\\nvalue = [0, 1]'),\n",
       " Text(279.0, 65.232, 'X[2] <= 3.0\\nentropy = 0.722\\nsamples = 10\\nvalue = [2, 8]'),\n",
       " Text(251.10000000000002, 21.744, 'entropy = 0.0\\nsamples = 1\\nvalue = [0, 1]'),\n",
       " Text(306.90000000000003, 21.744, 'entropy = 0.764\\nsamples = 9\\nvalue = [2, 7]')]"
      ]
     },
     "execution_count": 12,
     "metadata": {},
     "output_type": "execute_result"
    },
    {
     "data": {
      "image/png": "[encoded data removed]",
      "text/plain": [
       "<Figure size 432x288 with 1 Axes>"
      ]
     },
     "metadata": {
      "needs_background": "light"
     },
     "output_type": "display_data"
    }
   ],
   "source": [
    "tree.plot_tree(dt.fit(x,y))"
   ]
  },
  {
   "cell_type": "code",
   "execution_count": 13,
   "metadata": {},
   "outputs": [
    {
     "name": "stdout",
     "output_type": "stream",
     "text": [
      "[1 0 1 1 1 1 0 1 1 0 1 0]\n"
     ]
    }
   ],
   "source": [
    "print(y_pred)"
   ]
  },
  {
   "cell_type": "code",
   "execution_count": 14,
   "metadata": {},
   "outputs": [],
   "source": [
    "y_test=test.Label"
   ]
  },
  {
   "cell_type": "code",
   "execution_count": 15,
   "metadata": {},
   "outputs": [
    {
     "name": "stdout",
     "output_type": "stream",
     "text": [
      "0     1\n",
      "1     0\n",
      "2     1\n",
      "3     1\n",
      "4     1\n",
      "5     1\n",
      "6     1\n",
      "7     1\n",
      "8     1\n",
      "9     0\n",
      "10    1\n",
      "11    0\n",
      "Name: Label, dtype: int32\n"
     ]
    }
   ],
   "source": [
    "print(y_test)"
   ]
  },
  {
   "cell_type": "code",
   "execution_count": 20,
   "metadata": {},
   "outputs": [],
   "source": [
    "from sklearn.metrics import classification_report"
   ]
  },
  {
   "cell_type": "code",
   "execution_count": 21,
   "metadata": {},
   "outputs": [
    {
     "name": "stdout",
     "output_type": "stream",
     "text": [
      "Accuracy:  0.9166666666666666\n",
      "              precision    recall  f1-score   support\n",
      "\n",
      "           0       0.75      1.00      0.86         3\n",
      "           1       1.00      0.89      0.94         9\n",
      "\n",
      "    accuracy                           0.92        12\n",
      "   macro avg       0.88      0.94      0.90        12\n",
      "weighted avg       0.94      0.92      0.92        12\n",
      "\n"
     ]
    }
   ],
   "source": [
    "print(\"Accuracy: \", metrics.accuracy_score(y_test, y_pred))\n",
    "print(classification_report(y_test, y_pred))"
   ]
  },
  {
   "cell_type": "code",
   "execution_count": null,
   "metadata": {},
   "outputs": [],
   "source": []
  }
 ],
 "metadata": {
  "kernelspec": {
   "display_name": "Python 3",
   "language": "python",
   "name": "python3"
  },
  "language_info": {
   "codemirror_mode": {
    "name": "ipython",
    "version": 3
   },
   "file_extension": ".py",
   "mimetype": "text/x-python",
   "name": "python",
   "nbconvert_exporter": "python",
   "pygments_lexer": "ipython3",
   "version": "3.5.6"
  }
 },
 "nbformat": 4,
 "nbformat_minor": 2
}
