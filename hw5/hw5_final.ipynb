{
 "cells": [
  {
   "cell_type": "code",
   "execution_count": 1,
   "metadata": {},
   "outputs": [],
   "source": [
    "import pandas as pd\n",
    "import numpy as np\n",
    "from sklearn.model_selection import KFold \n",
    "from sklearn.tree import DecisionTreeClassifier\n",
    "from sklearn import model_selection,preprocessing, neighbors,metrics\n",
    "from sklearn.utils import shuffle\n",
    "from sklearn.neighbors import KNeighborsClassifier\n",
    "import random\n",
    "from sklearn.metrics import accuracy_score\n",
    "import matplotlib.pyplot as plt\n",
    "import os\n",
    "import numpy as np\n",
    "import testing_custom, training_custom"
   ]
  },
  {
   "cell_type": "code",
   "execution_count": 2,
   "metadata": {},
   "outputs": [],
   "source": [
    "path=\"C:/Users/Harsh/Desktop/hw5/\""
   ]
  },
  {
   "cell_type": "code",
   "execution_count": 3,
   "metadata": {},
   "outputs": [],
   "source": [
    "# creating a np array for dtc (Decision tree classifier) and knn \n",
    "dtc = np.array([])\n",
    "knn = np.array([])\n",
    "knn = knn.astype('float64')"
   ]
  },
  {
   "cell_type": "code",
   "execution_count": 4,
   "metadata": {},
   "outputs": [],
   "source": [
    "x_train =[]\n",
    "x_test =[]\n",
    "y_train =[]\n",
    "y_test =[]\n",
    "max_neighbors =30"
   ]
  },
  {
   "cell_type": "code",
   "execution_count": 5,
   "metadata": {},
   "outputs": [
    {
     "data": {
      "text/html": [
       "<div>\n",
       "<style scoped>\n",
       "    .dataframe tbody tr th:only-of-type {\n",
       "        vertical-align: middle;\n",
       "    }\n",
       "\n",
       "    .dataframe tbody tr th {\n",
       "        vertical-align: top;\n",
       "    }\n",
       "\n",
       "    .dataframe thead th {\n",
       "        text-align: right;\n",
       "    }\n",
       "</style>\n",
       "<table border=\"1\" class=\"dataframe\">\n",
       "  <thead>\n",
       "    <tr style=\"text-align: right;\">\n",
       "      <th></th>\n",
       "      <th>sepalLength</th>\n",
       "      <th>sepalWidth</th>\n",
       "      <th>petalLength</th>\n",
       "      <th>petalWidth</th>\n",
       "      <th>class</th>\n",
       "    </tr>\n",
       "  </thead>\n",
       "  <tbody>\n",
       "    <tr>\n",
       "      <th>0</th>\n",
       "      <td>5.1</td>\n",
       "      <td>3.5</td>\n",
       "      <td>1.4</td>\n",
       "      <td>0.2</td>\n",
       "      <td>Iris-setosa</td>\n",
       "    </tr>\n",
       "    <tr>\n",
       "      <th>1</th>\n",
       "      <td>4.9</td>\n",
       "      <td>3.0</td>\n",
       "      <td>1.4</td>\n",
       "      <td>0.2</td>\n",
       "      <td>Iris-setosa</td>\n",
       "    </tr>\n",
       "    <tr>\n",
       "      <th>2</th>\n",
       "      <td>4.7</td>\n",
       "      <td>3.2</td>\n",
       "      <td>1.3</td>\n",
       "      <td>0.2</td>\n",
       "      <td>Iris-setosa</td>\n",
       "    </tr>\n",
       "    <tr>\n",
       "      <th>3</th>\n",
       "      <td>4.6</td>\n",
       "      <td>3.1</td>\n",
       "      <td>1.5</td>\n",
       "      <td>0.2</td>\n",
       "      <td>Iris-setosa</td>\n",
       "    </tr>\n",
       "    <tr>\n",
       "      <th>4</th>\n",
       "      <td>5.0</td>\n",
       "      <td>3.6</td>\n",
       "      <td>1.4</td>\n",
       "      <td>0.2</td>\n",
       "      <td>Iris-setosa</td>\n",
       "    </tr>\n",
       "  </tbody>\n",
       "</table>\n",
       "</div>"
      ],
      "text/plain": [
       "   sepalLength  sepalWidth  petalLength  petalWidth        class\n",
       "0          5.1         3.5          1.4         0.2  Iris-setosa\n",
       "1          4.9         3.0          1.4         0.2  Iris-setosa\n",
       "2          4.7         3.2          1.3         0.2  Iris-setosa\n",
       "3          4.6         3.1          1.5         0.2  Iris-setosa\n",
       "4          5.0         3.6          1.4         0.2  Iris-setosa"
      ]
     },
     "execution_count": 5,
     "metadata": {},
     "output_type": "execute_result"
    }
   ],
   "source": [
    "df = pd.read_table(path+ \"iris.data\", sep=\",\", header=None, names=['sepalLength', 'sepalWidth', 'petalLength', 'petalWidth', 'class'])\n",
    "df.head()"
   ]
  },
  {
   "cell_type": "code",
   "execution_count": 6,
   "metadata": {},
   "outputs": [],
   "source": [
    "df['class'] = pd.Categorical(df['class']) #conversion to numerical data\n",
    "df['class'] = df['class'].cat.codes"
   ]
  },
  {
   "cell_type": "code",
   "execution_count": 7,
   "metadata": {},
   "outputs": [],
   "source": [
    "#5-fold cross validation\n",
    "cv = model_selection.KFold(n_splits=5)"
   ]
  },
  {
   "cell_type": "code",
   "execution_count": 8,
   "metadata": {},
   "outputs": [],
   "source": [
    "x = df[df.columns[:-1]].values #target label creation\n",
    "y = df['class'].values"
   ]
  },
  {
   "cell_type": "code",
   "execution_count": 9,
   "metadata": {},
   "outputs": [],
   "source": [
    "# x and y shuffle before splitting\n",
    "x, y = shuffle(x, y, random_state = 999)"
   ]
  },
  {
   "cell_type": "code",
   "execution_count": 10,
   "metadata": {},
   "outputs": [],
   "source": [
    "# data set split into 5 cross valdiation \n",
    "for i, j in cv.split(df):\n",
    "    x_train.append(x[i])\n",
    "    x_test.append(x[j])\n",
    "    y_train.append(y[i])\n",
    "    y_test.append(y[j])"
   ]
  },
  {
   "cell_type": "code",
   "execution_count": 11,
   "metadata": {},
   "outputs": [
    {
     "name": "stdout",
     "output_type": "stream",
     "text": [
      "(5, 120, 4)\n",
      "(5, 120)\n",
      "(5, 30, 4)\n",
      "(5, 30)\n"
     ]
    }
   ],
   "source": [
    "#converting into arrays, dimensions printed and saved as .txt file\n",
    "x_train = np.asarray(x_train)\n",
    "x_test = np.asarray(x_test)\n",
    "y_train = np.asarray(y_train)\n",
    "y_test = np.asarray(y_test)\n",
    "print(x_train.shape)\n",
    "print(y_train.shape)\n",
    "print(x_test.shape)\n",
    "print(y_test.shape)\n",
    "\n",
    "for i in range(0,5):\n",
    "    np.savetxt(path+ \"train.csv/x_train_\"+str(i)+\".csv\", x_train[i], delimiter=\",\")\n",
    "    np.savetxt(path+ \"train.csv/y_train_\"+str(i)+\".csv\", y_train[i], delimiter=\",\")    \n",
    "    np.savetxt(path+ \"test.csv/x_test_\"+str(i)+\".csv\", x_test[i], delimiter=\",\")    \n",
    "    np.savetxt(path+ \"test.csv/y_test_\"+str(i)+\".csv\", y_test[i], delimiter=\",\")"
   ]
  },
  {
   "cell_type": "code",
   "execution_count": 12,
   "metadata": {},
   "outputs": [
    {
     "name": "stdout",
     "output_type": "stream",
     "text": [
      "0.9333333333333333\n",
      "[0.93333333 0.93333333 0.93333333 0.93333333 0.96666667 0.96666667\n",
      " 0.96666667 0.96666667 0.96666667 0.9        0.9        0.9\n",
      " 0.9        0.9        0.9        0.9        0.9        0.9\n",
      " 0.9        0.9        0.9        0.93333333 0.93333333 0.93333333\n",
      " 0.9        0.93333333 0.93333333 0.93333333 0.93333333 0.93333333]\n",
      "0.9666666666666667\n",
      "[1.         0.96666667 1.         1.         1.         0.96666667\n",
      " 0.96666667 0.96666667 0.96666667 0.96666667 0.96666667 0.96666667\n",
      " 0.96666667 0.96666667 0.93333333 0.93333333 0.93333333 0.93333333\n",
      " 0.96666667 0.93333333 0.93333333 0.93333333 0.93333333 0.9\n",
      " 0.96666667 0.93333333 0.93333333 0.93333333 0.93333333 0.93333333]\n",
      "1.0\n",
      "[0.96666667 1.         0.96666667 1.         1.         1.\n",
      " 1.         1.         1.         1.         1.         1.\n",
      " 1.         1.         1.         1.         1.         1.\n",
      " 1.         1.         1.         1.         1.         1.\n",
      " 1.         1.         1.         1.         1.         1.        ]\n",
      "0.9\n",
      "[0.93333333 0.93333333 0.93333333 0.96666667 0.93333333 0.96666667\n",
      " 0.96666667 0.96666667 0.93333333 0.96666667 0.93333333 0.96666667\n",
      " 0.96666667 0.96666667 0.96666667 0.96666667 0.96666667 0.96666667\n",
      " 0.96666667 0.96666667 0.96666667 0.93333333 0.93333333 0.93333333\n",
      " 0.93333333 0.93333333 0.96666667 0.96666667 0.96666667 0.96666667]\n",
      "0.9666666666666667\n",
      "[0.93333333 0.9        0.96666667 0.96666667 0.96666667 0.96666667\n",
      " 0.96666667 1.         1.         1.         1.         1.\n",
      " 1.         1.         1.         1.         1.         1.\n",
      " 1.         1.         1.         1.         1.         1.\n",
      " 1.         0.96666667 0.96666667 0.96666667 0.96666667 0.96666667]\n"
     ]
    }
   ],
   "source": [
    "for i in range(5):\n",
    "    training_custom.create_dtc(i) # train and save model for dtc as .txt file\n",
    "    training_custom.create_knn(i,max_neighbors) #train and save model for knn for different values of k as .txt file\n",
    "    dtc_avg = testing_custom.run_dtc(i) # load model from txt\n",
    "    knn_avg = testing_custom.run_knn(i,max_neighbors) #Load model from txt\n",
    "    print(dtc_avg) #print accuracy for dtc\n",
    "    dtc = np.append(dtc,dtc_avg) #returns value to calculate average\n",
    "    print(knn_avg) #print knn accuracy\n",
    "    knn = np.append(knn,knn_avg) #returns value to calculate average"
   ]
  },
  {
   "cell_type": "code",
   "execution_count": 13,
   "metadata": {},
   "outputs": [],
   "source": [
    "knn = knn.reshape(int(max_neighbors/6),max_neighbors) #matrix reshaping\n",
    "knn_accuracy_mean = np.mean(knn,axis=0) #find mean of knn accuracy"
   ]
  },
  {
   "cell_type": "code",
   "execution_count": 14,
   "metadata": {},
   "outputs": [
    {
     "data": {
      "text/plain": [
       "0.9533333333333334"
      ]
     },
     "execution_count": 14,
     "metadata": {},
     "output_type": "execute_result"
    }
   ],
   "source": [
    "np.mean(dtc) #dtc accuracy mean"
   ]
  },
  {
   "cell_type": "code",
   "execution_count": 15,
   "metadata": {},
   "outputs": [
    {
     "data": {
      "image/png": "[encoded data removed]",
      "text/plain": [
       "<Figure size 432x288 with 1 Axes>"
      ]
     },
     "metadata": {
      "needs_background": "light"
     },
     "output_type": "display_data"
    }
   ],
   "source": [
    "#histogram plotting for comparison between various values of k\n",
    "plt.bar([i+1 for i in range(0,max_neighbors)], knn_accuracy_mean)\n",
    "plt.ylim([0.9,1])\n",
    "plt.xlabel(\"K\")\n",
    "plt.ylabel(\"5 fold mean accuracy\")\n",
    "plt.title(\"Mean Accuracy vs K\")\n",
    "plt.show()"
   ]
  },
  {
   "cell_type": "code",
   "execution_count": 17,
   "metadata": {},
   "outputs": [
    {
     "data": {
      "image/png": "[encoded data removed]",
      "text/plain": [
       "<Figure size 432x288 with 1 Axes>"
      ]
     },
     "metadata": {
      "needs_background": "light"
     },
     "output_type": "display_data"
    }
   ],
   "source": [
    "#comparison between knn and dtc\n",
    "final = ('KNN', 'Decision Tree Classifier')\n",
    "y_pos = np.arange(len(final))\n",
    "plt.bar(np.arange(2), [knn_accuracy_mean[7], np.mean(dtc)])\n",
    "plt.ylim([0.9,1])\n",
    "plt.title(\"k-NN and Decision tree comparison\")\n",
    "plt.ylabel(\"Accuracy\")\n",
    "plt.xlabel(\"Name of classifier\")\n",
    "plt.xticks(y_pos, final)\n",
    "plt.show()"
   ]
  },
  {
   "cell_type": "code",
   "execution_count": null,
   "metadata": {},
   "outputs": [],
   "source": []
  }
 ],
 "metadata": {
  "kernelspec": {
   "display_name": "Python 3",
   "language": "python",
   "name": "python3"
  },
  "language_info": {
   "codemirror_mode": {
    "name": "ipython",
    "version": 3
   },
   "file_extension": ".py",
   "mimetype": "text/x-python",
   "name": "python",
   "nbconvert_exporter": "python",
   "pygments_lexer": "ipython3",
   "version": "3.5.6"
  }
 },
 "nbformat": 4,
 "nbformat_minor": 2
}
